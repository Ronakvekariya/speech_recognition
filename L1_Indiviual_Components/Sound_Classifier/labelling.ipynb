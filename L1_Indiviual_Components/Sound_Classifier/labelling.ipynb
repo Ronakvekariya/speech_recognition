{
 "cells": [
  {
   "cell_type": "code",
   "execution_count": 15,
   "id": "051bd841-6bd3-4b5b-b1bd-999b644fbecf",
   "metadata": {},
   "outputs": [],
   "source": [
    "import os\n",
    "import shutil\n",
    "from sklearn.model_selection import train_test_split\n",
    "import glob\n",
    "import random\n",
    "import nbimporter"
   ]
  },
  {
   "cell_type": "code",
   "execution_count": 12,
   "id": "e33dfdaf-1fa1-4eb8-a32e-228373245d2e",
   "metadata": {},
   "outputs": [],
   "source": [
    "# this are the species of the which we want to clossify and have enough data about\n",
    "\n",
    "final_bird_list = ['Accipiter_badius',\n",
    " 'Amaurornis_phoenicurus',\n",
    " 'Anastomus_oscitans',\n",
    " 'Anser_anser',\n",
    " 'Apus_affinis',\n",
    " 'Arborophila_torqueola',\n",
    " 'Butorides_striata',\n",
    " 'Cacomantis_merulinus',\n",
    " 'Cacomantis_passerinus',\n",
    " 'Cacomantis_sonneratii',\n",
    " 'Caprimulgus_affinis',\n",
    " 'Caprimulgus_asiaticus',\n",
    " 'Caprimulgus_atripennis',\n",
    " 'Centropus_sinensis',\n",
    " 'Chrysococcyx_maculatus',\n",
    " 'Clamator_jacobinus',\n",
    " 'Columba_livia',\n",
    " 'Glaucidium cuculoides',\n",
    " 'Liocichla phoenicea',\n",
    " 'Ash-throated Flycatcher',\n",
    " 'Blackburnian Warbler',\n",
    " 'Blackpoll Warbler',\n",
    " 'Clanga_hastata',\n",
    " 'Mangrove Warbler',\n",
    " 'Rusty Blackbird',\n",
    " 'Sand Martin']"
   ]
  },
  {
   "cell_type": "code",
   "execution_count": 3,
   "id": "e2b10f8b-5bdd-49ee-9fe0-fc1f3c1bf639",
   "metadata": {},
   "outputs": [],
   "source": [
    "def prepare_image_for_resnet(image, target_size=(224, 224)):\n",
    "    image = tf.image.resize(image, target_size)\n",
    "    image = img_to_array(image)\n",
    "    image = np.expand_dims(image, axis=0)\n",
    "    image = preprocess_input(image)\n",
    "    return image"
   ]
  },
  {
   "cell_type": "code",
   "execution_count": 4,
   "id": "83bdb3db-4724-481f-a5d6-ef88ca56546b",
   "metadata": {},
   "outputs": [],
   "source": [
    "folder = ['normal' , 'endangered' , 'vulnerable']"
   ]
  },
  {
   "cell_type": "code",
   "execution_count": 5,
   "id": "121945c9-cc79-4222-8c20-44d7dcd661c0",
   "metadata": {},
   "outputs": [],
   "source": [
    "import warnings\n",
    "warnings.filterwarnings('ignore')\n",
    "\n",
    "# renaming the directories name to insert labeling into them\n",
    "for i in folder:\n",
    "    for j in os.listdir(i):\n",
    "        os.rename(os.path.join(i,j) , os.path.join(i, j ))"
   ]
  },
  {
   "cell_type": "code",
   "execution_count": 6,
   "id": "2e600b06-b2bb-41cd-a156-0e24c382191b",
   "metadata": {},
   "outputs": [],
   "source": [
    "dataset = [\"train\" , \"validation\" , \"test\"]"
   ]
  },
  {
   "cell_type": "code",
   "execution_count": 7,
   "id": "46e387f3-cf18-41d8-babc-399d77f04ace",
   "metadata": {},
   "outputs": [],
   "source": [
    "# making neccessary directory in train , validation and test set\n",
    "\n",
    "for i in folder:\n",
    "    for j in os.listdir(i):\n",
    "        os.makedirs(os.path.join(\"dataset\", \"train\" , j))\n",
    "        os.makedirs(os.path.join(\"dataset\", \"validation\" , j))\n",
    "        os.makedirs(os.path.join(\"dataset\", \"test\" , j))\n",
    "    "
   ]
  },
  {
   "cell_type": "code",
   "execution_count": 8,
   "id": "18af335b-5c14-44f3-9d04-c358a21d18df",
   "metadata": {},
   "outputs": [],
   "source": [
    "# creating  test and validation dataset\n",
    "\n",
    "\n",
    "for i in folder:\n",
    "    for j in os.listdir(i):\n",
    "        png_files = glob.glob(os.path.join(i,j, \"*.png\"))\n",
    "        selected_files = random.sample(png_files, 150)\n",
    "        \n",
    "        # Move each selected file to the destination directory\n",
    "        for file in selected_files:\n",
    "            shutil.move(file, os.path.join(\"dataset\", \"validation\" , j , os.path.basename(file)))\n",
    "\n",
    "        png_files = glob.glob(os.path.join(i,j, \"*.png\"))\n",
    "\n",
    "        selected_files = random.sample(png_files, 150)\n",
    "        \n",
    "        # Move each selected file to the destination directory\n",
    "        for file in selected_files:\n",
    "            shutil.move(file, os.path.join(\"dataset\", \"test\" , j , os.path.basename(file)))\n",
    "            \n",
    "    \n"
   ]
  },
  {
   "cell_type": "code",
   "execution_count": 10,
   "id": "41a25a87-ca62-486f-8bba-8eb9053a485d",
   "metadata": {},
   "outputs": [],
   "source": [
    "# creating train dataset\n",
    "\n",
    "for i in folder:\n",
    "    for j in os.listdir(i):\n",
    "        png_files = glob.glob(os.path.join(i,j, \"*.png\"))\n",
    "        selected_files = random.sample(png_files, len(png_files))\n",
    "        \n",
    "        # Move each selected file to the destination directory\n",
    "        for file in selected_files:\n",
    "            shutil.move(file, os.path.join(\"dataset\", \"train\" , j , os.path.basename(file)))"
   ]
  },
  {
   "cell_type": "code",
   "execution_count": null,
   "id": "29dca51c-e148-4706-b986-6a836c99ce2f",
   "metadata": {},
   "outputs": [],
   "source": []
  }
 ],
 "metadata": {
  "kernelspec": {
   "display_name": "Python 3 (ipykernel)",
   "language": "python",
   "name": "python3"
  },
  "language_info": {
   "codemirror_mode": {
    "name": "ipython",
    "version": 3
   },
   "file_extension": ".py",
   "mimetype": "text/x-python",
   "name": "python",
   "nbconvert_exporter": "python",
   "pygments_lexer": "ipython3",
   "version": "3.12.3"
  }
 },
 "nbformat": 4,
 "nbformat_minor": 5
}
