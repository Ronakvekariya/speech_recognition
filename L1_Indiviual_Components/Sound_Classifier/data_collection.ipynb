{
 "cells": [
  {
   "cell_type": "code",
   "execution_count": 1,
   "id": "0a27df3d-22fa-4648-aca1-c66e21571454",
   "metadata": {},
   "outputs": [
    {
     "name": "stdout",
     "output_type": "stream",
     "text": [
      "Collecting nbimporter\n",
      "  Downloading nbimporter-0.3.4-py3-none-any.whl.metadata (252 bytes)\n",
      "Downloading nbimporter-0.3.4-py3-none-any.whl (4.9 kB)\n",
      "Installing collected packages: nbimporter\n",
      "Successfully installed nbimporter-0.3.4\n"
     ]
    }
   ],
   "source": [
    "!pip install nbimporter"
   ]
  },
  {
   "cell_type": "code",
   "execution_count": 1,
   "id": "f29945d1-fb86-4954-844f-d7dfba2e853b",
   "metadata": {},
   "outputs": [
    {
     "name": "stdout",
     "output_type": "stream",
     "text": [
      "Collecting pydub\n",
      "  Downloading pydub-0.25.1-py2.py3-none-any.whl.metadata (1.4 kB)\n",
      "Downloading pydub-0.25.1-py2.py3-none-any.whl (32 kB)\n",
      "Installing collected packages: pydub\n",
      "Successfully installed pydub-0.25.1\n"
     ]
    }
   ],
   "source": [
    "!pip install pydub"
   ]
  },
  {
   "cell_type": "code",
   "execution_count": 69,
   "id": "03f7902a-fa0a-4d22-80dc-3b6aaacee6dc",
   "metadata": {
    "scrolled": true
   },
   "outputs": [
    {
     "name": "stdout",
     "output_type": "stream",
     "text": [
      "Requirement already satisfied: soundfile in c:\\users\\dc\\appdata\\local\\programs\\python\\python312\\lib\\site-packages (0.12.1)\n",
      "Requirement already satisfied: cffi>=1.0 in c:\\users\\dc\\appdata\\local\\programs\\python\\python312\\lib\\site-packages (from soundfile) (1.16.0)\n",
      "Requirement already satisfied: pycparser in c:\\users\\dc\\appdata\\local\\programs\\python\\python312\\lib\\site-packages (from cffi>=1.0->soundfile) (2.21)\n"
     ]
    }
   ],
   "source": [
    "!pip install soundfile --upgrade"
   ]
  },
  {
   "cell_type": "code",
   "execution_count": 4,
   "id": "57997421-beb0-41f5-917d-981c788fd611",
   "metadata": {},
   "outputs": [
    {
     "name": "stdout",
     "output_type": "stream",
     "text": [
      "Collecting librosa\n",
      "  Downloading librosa-0.10.2.post1-py3-none-any.whl.metadata (8.6 kB)\n",
      "Collecting audioread>=2.1.9 (from librosa)\n",
      "  Downloading audioread-3.0.1-py3-none-any.whl.metadata (8.4 kB)\n",
      "Requirement already satisfied: numpy!=1.22.0,!=1.22.1,!=1.22.2,>=1.20.3 in c:\\users\\dc\\appdata\\local\\programs\\python\\python312\\lib\\site-packages (from librosa) (1.26.1)\n",
      "Requirement already satisfied: scipy>=1.2.0 in c:\\users\\dc\\appdata\\local\\programs\\python\\python312\\lib\\site-packages (from librosa) (1.11.4)\n",
      "Requirement already satisfied: scikit-learn>=0.20.0 in c:\\users\\dc\\appdata\\local\\programs\\python\\python312\\lib\\site-packages (from librosa) (1.3.2)\n",
      "Requirement already satisfied: joblib>=0.14 in c:\\users\\dc\\appdata\\local\\programs\\python\\python312\\lib\\site-packages (from librosa) (1.3.2)\n",
      "Requirement already satisfied: decorator>=4.3.0 in c:\\users\\dc\\appdata\\local\\programs\\python\\python312\\lib\\site-packages (from librosa) (5.1.1)\n",
      "Requirement already satisfied: numba>=0.51.0 in c:\\users\\dc\\appdata\\local\\programs\\python\\python312\\lib\\site-packages (from librosa) (0.60.0)\n",
      "Collecting soundfile>=0.12.1 (from librosa)\n",
      "  Downloading soundfile-0.12.1-py2.py3-none-win_amd64.whl.metadata (14 kB)\n",
      "Collecting pooch>=1.1 (from librosa)\n",
      "  Downloading pooch-1.8.2-py3-none-any.whl.metadata (10 kB)\n",
      "Collecting soxr>=0.3.2 (from librosa)\n",
      "  Downloading soxr-0.3.7-cp312-cp312-win_amd64.whl.metadata (5.7 kB)\n",
      "Requirement already satisfied: typing-extensions>=4.1.1 in c:\\users\\dc\\appdata\\local\\programs\\python\\python312\\lib\\site-packages (from librosa) (4.10.0)\n",
      "Requirement already satisfied: lazy-loader>=0.1 in c:\\users\\dc\\appdata\\local\\programs\\python\\python312\\lib\\site-packages (from librosa) (0.4)\n",
      "Collecting msgpack>=1.0 (from librosa)\n",
      "  Downloading msgpack-1.0.8-cp312-cp312-win_amd64.whl.metadata (9.4 kB)\n",
      "Requirement already satisfied: packaging in c:\\users\\dc\\appdata\\local\\programs\\python\\python312\\lib\\site-packages (from lazy-loader>=0.1->librosa) (23.2)\n",
      "Requirement already satisfied: llvmlite<0.44,>=0.43.0dev0 in c:\\users\\dc\\appdata\\local\\programs\\python\\python312\\lib\\site-packages (from numba>=0.51.0->librosa) (0.43.0)\n",
      "Requirement already satisfied: platformdirs>=2.5.0 in c:\\users\\dc\\appdata\\local\\programs\\python\\python312\\lib\\site-packages (from pooch>=1.1->librosa) (3.11.0)\n",
      "Requirement already satisfied: requests>=2.19.0 in c:\\users\\dc\\appdata\\local\\programs\\python\\python312\\lib\\site-packages (from pooch>=1.1->librosa) (2.31.0)\n",
      "Requirement already satisfied: threadpoolctl>=2.0.0 in c:\\users\\dc\\appdata\\local\\programs\\python\\python312\\lib\\site-packages (from scikit-learn>=0.20.0->librosa) (3.2.0)\n",
      "Requirement already satisfied: cffi>=1.0 in c:\\users\\dc\\appdata\\local\\programs\\python\\python312\\lib\\site-packages (from soundfile>=0.12.1->librosa) (1.16.0)\n",
      "Requirement already satisfied: pycparser in c:\\users\\dc\\appdata\\local\\programs\\python\\python312\\lib\\site-packages (from cffi>=1.0->soundfile>=0.12.1->librosa) (2.21)\n",
      "Requirement already satisfied: charset-normalizer<4,>=2 in c:\\users\\dc\\appdata\\local\\programs\\python\\python312\\lib\\site-packages (from requests>=2.19.0->pooch>=1.1->librosa) (3.3.2)\n",
      "Requirement already satisfied: idna<4,>=2.5 in c:\\users\\dc\\appdata\\local\\programs\\python\\python312\\lib\\site-packages (from requests>=2.19.0->pooch>=1.1->librosa) (3.6)\n",
      "Requirement already satisfied: urllib3<3,>=1.21.1 in c:\\users\\dc\\appdata\\local\\programs\\python\\python312\\lib\\site-packages (from requests>=2.19.0->pooch>=1.1->librosa) (2.1.0)\n",
      "Requirement already satisfied: certifi>=2017.4.17 in c:\\users\\dc\\appdata\\local\\programs\\python\\python312\\lib\\site-packages (from requests>=2.19.0->pooch>=1.1->librosa) (2023.11.17)\n",
      "Downloading librosa-0.10.2.post1-py3-none-any.whl (260 kB)\n",
      "   ---------------------------------------- 0.0/260.1 kB ? eta -:--:--\n",
      "   ---- ----------------------------------- 30.7/260.1 kB 1.3 MB/s eta 0:00:01\n",
      "   ---- ----------------------------------- 30.7/260.1 kB 1.3 MB/s eta 0:00:01\n",
      "   ------------- ------------------------- 92.2/260.1 kB 655.4 kB/s eta 0:00:01\n",
      "   ---------------- --------------------- 112.6/260.1 kB 652.2 kB/s eta 0:00:01\n",
      "   ---------------------------- --------- 194.6/260.1 kB 841.6 kB/s eta 0:00:01\n",
      "   ---------------------------------- --- 235.5/260.1 kB 901.1 kB/s eta 0:00:01\n",
      "   -------------------------------------- 260.1/260.1 kB 841.2 kB/s eta 0:00:00\n",
      "Downloading audioread-3.0.1-py3-none-any.whl (23 kB)\n",
      "Downloading msgpack-1.0.8-cp312-cp312-win_amd64.whl (75 kB)\n",
      "   ---------------------------------------- 0.0/75.3 kB ? eta -:--:--\n",
      "   ---------------------------------------- 75.3/75.3 kB 4.3 MB/s eta 0:00:00\n",
      "Downloading pooch-1.8.2-py3-none-any.whl (64 kB)\n",
      "   ---------------------------------------- 0.0/64.6 kB ? eta -:--:--\n",
      "   ---------------------------------------- 64.6/64.6 kB 1.8 MB/s eta 0:00:00\n",
      "Downloading soundfile-0.12.1-py2.py3-none-win_amd64.whl (1.0 MB)\n",
      "   ---------------------------------------- 0.0/1.0 MB ? eta -:--:--\n",
      "   ---------------------------------------- 0.0/1.0 MB ? eta -:--:--\n",
      "   --------- ------------------------------ 0.2/1.0 MB 3.0 MB/s eta 0:00:01\n",
      "   --------- ------------------------------ 0.2/1.0 MB 3.0 MB/s eta 0:00:01\n",
      "   --------- ------------------------------ 0.2/1.0 MB 3.0 MB/s eta 0:00:01\n",
      "   ----------- ---------------------------- 0.3/1.0 MB 1.3 MB/s eta 0:00:01\n",
      "   ------------ --------------------------- 0.3/1.0 MB 1.3 MB/s eta 0:00:01\n",
      "   -------------- ------------------------- 0.4/1.0 MB 1.1 MB/s eta 0:00:01\n",
      "   --------------- ------------------------ 0.4/1.0 MB 1.1 MB/s eta 0:00:01\n",
      "   -------------------- ------------------- 0.5/1.0 MB 1.3 MB/s eta 0:00:01\n",
      "   ----------------------- ---------------- 0.6/1.0 MB 1.3 MB/s eta 0:00:01\n",
      "   ---------------------------- ----------- 0.7/1.0 MB 1.4 MB/s eta 0:00:01\n",
      "   ------------------------------- -------- 0.8/1.0 MB 1.5 MB/s eta 0:00:01\n",
      "   --------------------------------- ------ 0.8/1.0 MB 1.5 MB/s eta 0:00:01\n",
      "   -------------------------------------- - 1.0/1.0 MB 1.5 MB/s eta 0:00:01\n",
      "   ---------------------------------------- 1.0/1.0 MB 1.5 MB/s eta 0:00:00\n",
      "Downloading soxr-0.3.7-cp312-cp312-win_amd64.whl (184 kB)\n",
      "   ---------------------------------------- 0.0/184.1 kB ? eta -:--:--\n",
      "   ---------------------- ----------------- 102.4/184.1 kB 3.0 MB/s eta 0:00:01\n",
      "   ------------------------------------- -- 174.1/184.1 kB 2.6 MB/s eta 0:00:01\n",
      "   ---------------------------------------- 184.1/184.1 kB 2.2 MB/s eta 0:00:00\n",
      "Installing collected packages: soxr, msgpack, audioread, soundfile, pooch, librosa\n",
      "Successfully installed audioread-3.0.1 librosa-0.10.2.post1 msgpack-1.0.8 pooch-1.8.2 soundfile-0.12.1 soxr-0.3.7\n"
     ]
    }
   ],
   "source": [
    "!pip install librosa"
   ]
  },
  {
   "cell_type": "code",
   "execution_count": 1,
   "id": "639e584d-c7bf-48e6-8457-1abe7610628b",
   "metadata": {},
   "outputs": [],
   "source": [
    "vulnerable_species = [\n",
    "    \"Chloropsis jerdoni\",    # Jerdon's Chloropsis\n",
    "    \"Clanga hastata\"         # Indian Spotted Eagle\n",
    "]"
   ]
  },
  {
   "cell_type": "code",
   "execution_count": 2,
   "id": "55a34891-1ceb-4954-a807-5040c6cde90b",
   "metadata": {},
   "outputs": [],
   "source": [
    "near_threatened_species = [\n",
    "    \"Dicaeum cruentatum\",    # Scarlet-backed Flowerpecker\n",
    "    \"Glaucidium cuculoides\", # Asian Barred Owlet\n",
    "    \"Halcyon coromanda\",     # Ruddy Kingfisher\n",
    "    \"Ixobrychus cinnamomeus\",# Cinnamon Bittern\n",
    "    \"Liocichla phoenicea\",   # Red-faced Liocichla\n",
    "    \"Loriculus vernalis\",    # Vernal Hanging Parrot\n",
    "    \"Macronus gularis\",      # Pin-striped Tit-Babbler\n",
    "    \"Butorides striata\",     # Striated Heron\n",
    "    \"Chrysococcyx maculatus\" # Asian Emerald Cuckoo\n",
    "]\n"
   ]
  },
  {
   "cell_type": "code",
   "execution_count": 3,
   "id": "3ced3098-fbfa-4617-a5c9-8177f6792fc0",
   "metadata": {},
   "outputs": [],
   "source": [
    "normal = [\n",
    "    \"Acridotheres fuscus\",\n",
    "    \"Acrocephalus bistrigiceps\",\n",
    "    \"Aethopyga gouldiae\",\n",
    "    \"Alcippe cinerea\",\n",
    "    \"Arachnothera magna\",\n",
    "    \"Arborophila torqueola\",\n",
    "    \"Argya longirostris\",\n",
    "    \"Centropus andamanensis\",\n",
    "    \"Chelidorhynx hypoxanthus\",\n",
    "    \"Chloropsis\",\n",
    "    \"Chloropsis cochinchinensis\",\n",
    "    \"Cuculus micropterus\",\n",
    "    \"Cyornis concretus\",\n",
    "    \"Cyornis magnirostris\",\n",
    "    \"Cyornis poliogenys\",\n",
    "    \"Cyornis unicolor\",\n",
    "    \"Cypsiurus balasiensis\",\n",
    "    \"Dicaeum chrysorrheum\",\n",
    "    \"Dicaeum minullum\",\n",
    "    \"Dicrurus andamanensis\",\n",
    "    \"Eurystomus orientalis\",\n",
    "    \"Accipiter badius\",\n",
    "    \"Accipiter nisus\",\n",
    "    \"Amaurornis phoenicurus\",\n",
    "    \"Anastomus oscitans\",\n",
    "    \"Anser anser\",\n",
    "    \"Apus affinis\",\n",
    "    \"Arborophila torqueola\",\n",
    "    \"Butorides striata\",\n",
    "    \"Cacomantis merulinus\",\n",
    "    \"Cacomantis passerinus\",\n",
    "    \"Cacomantis sonneratii\",\n",
    "    \"Caprimulgus affinis\",\n",
    "    \"Caprimulgus asiaticus\",\n",
    "    \"Caprimulgus atripennis\",\n",
    "    \"Caprimulgus macrurus\",\n",
    "    \"Centropus sinensis\",\n",
    "    \"Clamator jacobinus\",\n",
    "    \"Columba livia\"\n",
    "]"
   ]
  },
  {
   "cell_type": "code",
   "execution_count": 34,
   "id": "f2ae921f-8124-4e3f-b00d-3f833a9e29a0",
   "metadata": {},
   "outputs": [
    {
     "name": "stdout",
     "output_type": "stream",
     "text": [
      "Requirement already satisfied: librosa in c:\\users\\dc\\appdata\\local\\programs\\python\\python312\\lib\\site-packages (0.10.2.post1)\n",
      "Requirement already satisfied: matplotlib in c:\\users\\dc\\appdata\\local\\programs\\python\\python312\\lib\\site-packages (3.8.2)\n",
      "Requirement already satisfied: numpy in c:\\users\\dc\\appdata\\local\\programs\\python\\python312\\lib\\site-packages (1.26.1)\n",
      "Requirement already satisfied: audioread>=2.1.9 in c:\\users\\dc\\appdata\\local\\programs\\python\\python312\\lib\\site-packages (from librosa) (3.0.1)\n",
      "Requirement already satisfied: scipy>=1.2.0 in c:\\users\\dc\\appdata\\local\\programs\\python\\python312\\lib\\site-packages (from librosa) (1.11.4)\n",
      "Requirement already satisfied: scikit-learn>=0.20.0 in c:\\users\\dc\\appdata\\local\\programs\\python\\python312\\lib\\site-packages (from librosa) (1.3.2)\n",
      "Requirement already satisfied: joblib>=0.14 in c:\\users\\dc\\appdata\\local\\programs\\python\\python312\\lib\\site-packages (from librosa) (1.3.2)\n",
      "Requirement already satisfied: decorator>=4.3.0 in c:\\users\\dc\\appdata\\local\\programs\\python\\python312\\lib\\site-packages (from librosa) (5.1.1)\n",
      "Requirement already satisfied: numba>=0.51.0 in c:\\users\\dc\\appdata\\local\\programs\\python\\python312\\lib\\site-packages (from librosa) (0.60.0)\n",
      "Requirement already satisfied: soundfile>=0.12.1 in c:\\users\\dc\\appdata\\local\\programs\\python\\python312\\lib\\site-packages (from librosa) (0.12.1)\n",
      "Requirement already satisfied: pooch>=1.1 in c:\\users\\dc\\appdata\\local\\programs\\python\\python312\\lib\\site-packages (from librosa) (1.8.2)\n",
      "Requirement already satisfied: soxr>=0.3.2 in c:\\users\\dc\\appdata\\local\\programs\\python\\python312\\lib\\site-packages (from librosa) (0.3.7)\n",
      "Requirement already satisfied: typing-extensions>=4.1.1 in c:\\users\\dc\\appdata\\local\\programs\\python\\python312\\lib\\site-packages (from librosa) (4.10.0)\n",
      "Requirement already satisfied: lazy-loader>=0.1 in c:\\users\\dc\\appdata\\local\\programs\\python\\python312\\lib\\site-packages (from librosa) (0.4)\n",
      "Requirement already satisfied: msgpack>=1.0 in c:\\users\\dc\\appdata\\local\\programs\\python\\python312\\lib\\site-packages (from librosa) (1.0.8)\n",
      "Requirement already satisfied: contourpy>=1.0.1 in c:\\users\\dc\\appdata\\local\\programs\\python\\python312\\lib\\site-packages (from matplotlib) (1.2.0)\n",
      "Requirement already satisfied: cycler>=0.10 in c:\\users\\dc\\appdata\\local\\programs\\python\\python312\\lib\\site-packages (from matplotlib) (0.12.1)\n",
      "Requirement already satisfied: fonttools>=4.22.0 in c:\\users\\dc\\appdata\\local\\programs\\python\\python312\\lib\\site-packages (from matplotlib) (4.47.0)\n",
      "Requirement already satisfied: kiwisolver>=1.3.1 in c:\\users\\dc\\appdata\\local\\programs\\python\\python312\\lib\\site-packages (from matplotlib) (1.4.5)\n",
      "Requirement already satisfied: packaging>=20.0 in c:\\users\\dc\\appdata\\local\\programs\\python\\python312\\lib\\site-packages (from matplotlib) (23.2)\n",
      "Requirement already satisfied: pillow>=8 in c:\\users\\dc\\appdata\\local\\programs\\python\\python312\\lib\\site-packages (from matplotlib) (10.1.0)\n",
      "Requirement already satisfied: pyparsing>=2.3.1 in c:\\users\\dc\\appdata\\local\\programs\\python\\python312\\lib\\site-packages (from matplotlib) (3.1.1)\n",
      "Requirement already satisfied: python-dateutil>=2.7 in c:\\users\\dc\\appdata\\local\\programs\\python\\python312\\lib\\site-packages (from matplotlib) (2.8.2)\n",
      "Requirement already satisfied: llvmlite<0.44,>=0.43.0dev0 in c:\\users\\dc\\appdata\\local\\programs\\python\\python312\\lib\\site-packages (from numba>=0.51.0->librosa) (0.43.0)\n",
      "Requirement already satisfied: platformdirs>=2.5.0 in c:\\users\\dc\\appdata\\local\\programs\\python\\python312\\lib\\site-packages (from pooch>=1.1->librosa) (3.11.0)\n",
      "Requirement already satisfied: requests>=2.19.0 in c:\\users\\dc\\appdata\\local\\programs\\python\\python312\\lib\\site-packages (from pooch>=1.1->librosa) (2.31.0)\n",
      "Requirement already satisfied: six>=1.5 in c:\\users\\dc\\appdata\\local\\programs\\python\\python312\\lib\\site-packages (from python-dateutil>=2.7->matplotlib) (1.16.0)\n",
      "Requirement already satisfied: threadpoolctl>=2.0.0 in c:\\users\\dc\\appdata\\local\\programs\\python\\python312\\lib\\site-packages (from scikit-learn>=0.20.0->librosa) (3.2.0)\n",
      "Requirement already satisfied: cffi>=1.0 in c:\\users\\dc\\appdata\\local\\programs\\python\\python312\\lib\\site-packages (from soundfile>=0.12.1->librosa) (1.16.0)\n",
      "Requirement already satisfied: pycparser in c:\\users\\dc\\appdata\\local\\programs\\python\\python312\\lib\\site-packages (from cffi>=1.0->soundfile>=0.12.1->librosa) (2.21)\n",
      "Requirement already satisfied: charset-normalizer<4,>=2 in c:\\users\\dc\\appdata\\local\\programs\\python\\python312\\lib\\site-packages (from requests>=2.19.0->pooch>=1.1->librosa) (3.3.2)\n",
      "Requirement already satisfied: idna<4,>=2.5 in c:\\users\\dc\\appdata\\local\\programs\\python\\python312\\lib\\site-packages (from requests>=2.19.0->pooch>=1.1->librosa) (3.6)\n",
      "Requirement already satisfied: urllib3<3,>=1.21.1 in c:\\users\\dc\\appdata\\local\\programs\\python\\python312\\lib\\site-packages (from requests>=2.19.0->pooch>=1.1->librosa) (2.1.0)\n",
      "Requirement already satisfied: certifi>=2017.4.17 in c:\\users\\dc\\appdata\\local\\programs\\python\\python312\\lib\\site-packages (from requests>=2.19.0->pooch>=1.1->librosa) (2023.11.17)\n",
      "Note: you may need to restart the kernel to use updated packages.\n"
     ]
    }
   ],
   "source": [
    "!pip install librosa matplotlib numpy"
   ]
  },
  {
   "cell_type": "code",
   "execution_count": 6,
   "id": "5c99f89d-d0fe-48d2-a14b-6727e5934ae8",
   "metadata": {},
   "outputs": [],
   "source": [
    "import librosa\n",
    "import numpy as np\n",
    "import pandas as pd\n",
    "import matplotlib.pyplot as plt\n",
    "from skimage.transform import resize\n",
    "import uuid\n",
    "from PIL import Image\n",
    "import tempfile\n",
    "from soundfile import LibsndfileError\n",
    "import os\n",
    "import matplotlib.pyplot as plt\n",
    "from scipy.signal import sosfilt, butter"
   ]
  },
  {
   "cell_type": "code",
   "execution_count": 14,
   "id": "ba6424b0-4b22-4e97-b7c1-74f04b4ef60b",
   "metadata": {},
   "outputs": [],
   "source": [
    "def audio_augmentation(y , sr , save_directory):\n",
    "    try:\n",
    "        y_stretched = librosa.effects.time_stretch(y, rate=1.2)  # Speed up by 20%\n",
    "        makespectogram(y_stretched , sr , save_directory)\n",
    "        y_shifted = librosa.effects.pitch_shift(y, sr = sr, n_steps=2)\n",
    "        makespectogram(y_shifted , sr , save_directory)\n",
    "        noise = np.random.normal(0, 0.05, y.shape)\n",
    "        y_noisy = y + noise\n",
    "        makespectogram(y_noisy , sr , save_directory)\n",
    "        y_louder = y * 1.5  # Increase volume by 50%\n",
    "        makespectogram(y_louder , sr , save_directory)\n",
    "        sos = butter(10, 1000, 'hp', fs=sr, output='sos')  # High-pass filter\n",
    "        y_filtered = sosfilt(sos, y)\n",
    "        makespectogram(y_filtered , sr , save_directory)\n",
    "    except (LibsndfileError, Exception) as e:\n",
    "        print(f\"Error processing audio data: {e}\")"
   ]
  },
  {
   "cell_type": "code",
   "execution_count": 8,
   "id": "c927eb8e-d162-4adf-9bba-5da10cb3f4c4",
   "metadata": {},
   "outputs": [],
   "source": [
    "# Spectrogram Augmentation\n",
    "def spec_augment(spec, max_time_warp=5, max_freq_mask=2, max_time_mask=2):\n",
    "    try:\n",
    "        num_freq_bins, num_time_steps = spec.shape\n",
    "        time_warp = np.random.randint(-max_time_warp, max_time_warp)\n",
    "        spec = np.roll(spec, time_warp, axis=1)\n",
    "        freq_mask = np.random.randint(0, max_freq_mask)\n",
    "        spec[np.random.randint(0, num_freq_bins - freq_mask): np.random.randint(0, num_freq_bins - freq_mask) + freq_mask, :] = 0\n",
    "        time_mask = np.random.randint(0, max_time_mask)\n",
    "        spec[:, np.random.randint(0, num_time_steps - time_mask): np.random.randint(0, num_time_steps - time_mask) + time_mask] = 0\n",
    "        return spec\n",
    "    except (LibsndfileError, Exception) as e:\n",
    "        print(f\"Error processing audio data: {e}\")\n",
    "        "
   ]
  },
  {
   "cell_type": "code",
   "execution_count": 9,
   "id": "0edca4c5-b949-4cbc-aeb2-1886f2e8fa79",
   "metadata": {},
   "outputs": [],
   "source": [
    "def makespectogram(audio_data, sr, save_directory):\n",
    "    try:\n",
    "        # Define parameters\n",
    "        n_fft = 512  # Window length: 256 or 512\n",
    "        hop_length = 128  # Hop size: 64 or 128\n",
    "\n",
    "        # Compute the STFT\n",
    "        D = librosa.stft(audio_data, n_fft=n_fft, hop_length=hop_length)\n",
    "        S = np.abs(D)\n",
    "        S_db = librosa.amplitude_to_db(S, ref=np.max)\n",
    "\n",
    "        # Define the number of Mel bands\n",
    "        n_mels = 128\n",
    "\n",
    "        # Compute the Mel spectrogram\n",
    "        S_mel = librosa.feature.melspectrogram(S=S, sr=sr, n_mels=n_mels)\n",
    "        spec_augmented = spec_augment(S_mel)\n",
    "\n",
    "        lst = [S_mel , spec_augmented]\n",
    "\n",
    "        for S_mel in lst:\n",
    "            \n",
    "            S_mel_db = librosa.amplitude_to_db(S_mel, ref=np.max)\n",
    "    \n",
    "            # Define the target size\n",
    "            target_size = (128, 512)  # Can be [128, 512], [96, 512], or [128, 1024]\n",
    "    \n",
    "            # Rescale the Mel spectrogram\n",
    "            S_rescaled = resize(S_mel_db, target_size, mode='reflect', anti_aliasing=True)\n",
    "    \n",
    "            # Normalize the data to range [0, 255]\n",
    "            S_rescaled_normalized = 255 * (S_rescaled - np.min(S_rescaled)) / (np.max(S_rescaled) - np.min(S_rescaled))\n",
    "            S_rescaled_normalized = np.stack((S_rescaled_normalized,)*3, axis=-1)\n",
    "            S_rescaled_normalized = S_rescaled_normalized.astype(np.uint8)\n",
    "    \n",
    "            # Save the spectrogram as an image file using Pillow\n",
    "            image = Image.fromarray(S_rescaled_normalized)\n",
    "            image.save(os.path.join(save_directory, '{}.png'.format(uuid.uuid1())))  # Save the image\n",
    "    \n",
    "            return plt\n",
    "    except (LibsndfileError, Exception) as e:\n",
    "        print(f\"Error processing audio data: {e}\")"
   ]
  },
  {
   "cell_type": "code",
   "execution_count": 10,
   "id": "c41cb538-6854-4bed-9137-57321430a767",
   "metadata": {},
   "outputs": [],
   "source": [
    "def split_audio_librosa(audio_file, save_directory, chunk_duration=2500):\n",
    "\n",
    "    # Check if the file exists\n",
    "    if not os.path.exists(audio_file):\n",
    "        print(f\"File not found: {audio_file}\")\n",
    "        return\n",
    "\n",
    "    try:\n",
    "        # Load audio\n",
    "        y, sr = librosa.load(audio_file)\n",
    "    except Exception as e:\n",
    "        print(f\"Error loading audio file: {e}\")\n",
    "        return\n",
    "\n",
    "    # Calculate number of samples per chunk\n",
    "    chunk_size = int(chunk_duration * sr / 1000)\n",
    "    try:\n",
    "        for i in range(0, len(y), chunk_size):\n",
    "            chunk = y[i:i+chunk_size]\n",
    "            audio_augmentation(y , sr , save_directory)\n",
    "            # makespectogram(chunk, sr, save_directory)\n",
    "    except (LibsndfileError, Exception) as e:\n",
    "        print(f\"Error processing audio data: {e}\")\n",
    "        "
   ]
  },
  {
   "cell_type": "code",
   "execution_count": 11,
   "id": "915505ca-0c03-4737-96ca-0e360da33882",
   "metadata": {},
   "outputs": [],
   "source": [
    "folder = ['normal' , 'endangered' , 'vulnerable']"
   ]
  },
  {
   "cell_type": "code",
   "execution_count": 8,
   "id": "76a8b1a4-ee3c-47eb-acc6-f66fa10b1680",
   "metadata": {},
   "outputs": [],
   "source": [
    "data = pd.read_csv('./archive/train_extended.csv')"
   ]
  },
  {
   "cell_type": "code",
   "execution_count": 9,
   "id": "ec582896-7f31-4ea5-b313-9c8ba96f33ef",
   "metadata": {},
   "outputs": [],
   "source": [
    "species_lst = data['species'].unique()"
   ]
  },
  {
   "cell_type": "code",
   "execution_count": 10,
   "id": "688188c1-1a65-41b1-aa98-f7416961744b",
   "metadata": {},
   "outputs": [],
   "source": [
    "rare_birds = [\n",
    "    'American Bittern', \n",
    "    'Black-billed Cuckoo', \n",
    "    'Blackburnian Warbler', \n",
    "    \"Baird's Sandpiper\", \n",
    "    'Broad-tailed Hummingbird', \n",
    "    'Blackpoll Warbler', \n",
    "    \"Bell's Sparrow\", \n",
    "    'Ash-throated Flycatcher', \n",
    "    'Broad-winged Hawk', \n",
    "    'Sand Martin', \n",
    "    'Greater Roadrunner', \n",
    "    \"LeConte's Thrasher\", \n",
    "    'Long-billed Curlew', \n",
    "    'Mangrove Warbler', \n",
    "    'Rusty Blackbird'\n",
    "]\n"
   ]
  },
  {
   "cell_type": "code",
   "execution_count": 11,
   "id": "1f8a346f-22f9-4bce-ad25-6ebe5d1680d2",
   "metadata": {
    "scrolled": true
   },
   "outputs": [
    {
     "data": {
      "text/plain": [
       "array(['Alder Flycatcher', 'American Avocet', 'American Bittern',\n",
       "       'American Crow', 'American Goldfinch', 'American Kestrel',\n",
       "       'Buff-bellied Pipit', 'American Redstart', 'American Robin',\n",
       "       'American Wigeon', 'American Woodcock', 'American Tree Sparrow',\n",
       "       \"Anna's Hummingbird\", 'Ash-throated Flycatcher',\n",
       "       \"Baird's Sandpiper\", 'Bald Eagle', 'Baltimore Oriole',\n",
       "       'Sand Martin', 'Barn Swallow', 'Black-and-white Warbler',\n",
       "       'Belted Kingfisher', \"Bell's Sparrow\", \"Bewick's Wren\",\n",
       "       'Black-billed Cuckoo', 'Black-billed Magpie',\n",
       "       'Blackburnian Warbler', 'Black-capped Chickadee',\n",
       "       'Black-chinned Hummingbird', 'Black-headed Grosbeak',\n",
       "       'Blackpoll Warbler', 'Black-throated Sparrow', 'Black Phoebe',\n",
       "       'Blue Grosbeak', 'Blue Jay', 'Brown-headed Cowbird', 'Bobolink',\n",
       "       \"Bonaparte's Gull\", 'Barred Owl', \"Brewer's Blackbird\",\n",
       "       \"Brewer's Sparrow\", 'Brown Creeper', 'Brown Thrasher',\n",
       "       'Broad-tailed Hummingbird', 'Broad-winged Hawk',\n",
       "       'Black-throated Blue Warbler', 'Black-throated Green Warbler',\n",
       "       'Black-throated Grey Warbler', 'Bufflehead',\n",
       "       'Blue-grey Gnatcatcher', 'Blue-headed Vireo', \"Bullock's Oriole\",\n",
       "       'American Bushtit', 'Blue-winged Warbler', 'Cactus Wren',\n",
       "       'California Gull', 'California Quail', 'Cape May Warbler',\n",
       "       'Canada Goose', 'Canada Warbler', 'Canyon Wren', 'Carolina Wren',\n",
       "       \"Cassin's Finch\", 'Caspian Tern', \"Cassin's Vireo\",\n",
       "       'Cedar Waxwing', 'Chipping Sparrow', 'Chimney Swift',\n",
       "       'Chestnut-sided Warbler', 'Chukar Partridge', \"Clark's Nutcracker\",\n",
       "       'American Cliff Swallow', 'Common Goldeneye', 'Common Grackle',\n",
       "       'Common Loon', 'Common Merganser', 'Common Nighthawk',\n",
       "       'Northern Raven', 'Common Redpoll', 'Common Tern',\n",
       "       'Common Yellowthroat', \"Cooper's Hawk\", \"Costa's Hummingbird\",\n",
       "       'California Scrub Jay', 'Dark-eyed Junco', 'Downy Woodpecker',\n",
       "       'American Dusky Flycatcher', 'Black-necked Grebe',\n",
       "       'Eastern Bluebird', 'Eastern Kingbird', 'Eastern Meadowlark',\n",
       "       'Eastern Phoebe', 'Eastern Towhee', 'Eastern Wood Pewee',\n",
       "       'Eurasian Collared Dove', 'Common Starling', 'Evening Grosbeak',\n",
       "       'Field Sparrow', 'Fish Crow', 'Red Fox Sparrow', 'Gadwall',\n",
       "       'Green-tailed Towhee', 'Eurasian Teal', 'Golden-crowned Kinglet',\n",
       "       'Golden-crowned Sparrow', 'Golden Eagle', 'Great Blue Heron',\n",
       "       'Great Crested Flycatcher', 'Great Egret', 'Greater Roadrunner',\n",
       "       'Greater Yellowlegs', 'Great Horned Owl', 'Green Heron',\n",
       "       'Great-tailed Grackle', 'Grey Catbird', 'American Grey Flycatcher',\n",
       "       'Hairy Woodpecker', \"Hammond's Flycatcher\",\n",
       "       'European Herring Gull', 'Hermit Thrush', 'Hooded Merganser',\n",
       "       'Hooded Warbler', 'Horned Lark', 'House Finch', 'House Sparrow',\n",
       "       'House Wren', 'Indigo Bunting', 'Juniper Titmouse', 'Killdeer',\n",
       "       'Ladder-backed Woodpecker', 'Lark Sparrow', 'Lazuli Bunting',\n",
       "       'Least Bittern', 'Least Flycatcher', 'Least Sandpiper',\n",
       "       \"LeConte's Thrasher\", 'Lesser Goldfinch', 'Lesser Nighthawk',\n",
       "       'Lesser Yellowlegs', \"Lewis's Woodpecker\", \"Lincoln's Sparrow\",\n",
       "       'Long-billed Curlew', 'Long-billed Dowitcher', 'Loggerhead Shrike',\n",
       "       'Long-tailed Duck', 'Louisiana Waterthrush',\n",
       "       \"MacGillivray's Warbler\", 'Magnolia Warbler', 'Mallard',\n",
       "       'Marsh Wren', 'Merlin', 'Mountain Bluebird', 'Mountain Chickadee',\n",
       "       'Mourning Dove', 'Northern Cardinal', 'Northern Flicker',\n",
       "       'Northern Harrier', 'Northern Mockingbird', 'Northern Parula',\n",
       "       'Northern Pintail', 'Northern Shoveler', 'Northern Waterthrush',\n",
       "       'Northern Rough-winged Swallow', \"Nuttall's Woodpecker\",\n",
       "       'Olive-sided Flycatcher', 'Orange-crowned Warbler',\n",
       "       'Western Osprey', 'Ovenbird', 'Palm Warbler',\n",
       "       'Pacific-slope Flycatcher', 'Pectoral Sandpiper',\n",
       "       'Peregrine Falcon', 'Phainopepla', 'Pied-billed Grebe',\n",
       "       'Pileated Woodpecker', 'Pine Grosbeak', 'Pinyon Jay',\n",
       "       'Pine Siskin', 'Pine Warbler', 'Plumbeous Vireo',\n",
       "       'Prairie Warbler', 'Purple Finch', 'Pygmy Nuthatch',\n",
       "       'Red-breasted Merganser', 'Red-breasted Nuthatch',\n",
       "       'Red-breasted Sapsucker', 'Red-bellied Woodpecker',\n",
       "       'Red Crossbill', 'Red-eyed Vireo', 'Red-necked Phalarope',\n",
       "       'Red-shouldered Hawk', 'Red-tailed Hawk', 'Red-winged Blackbird',\n",
       "       'Ring-billed Gull', 'Ring-necked Duck', 'Rose-breasted Grosbeak',\n",
       "       'Rock Dove', 'Rock Wren', 'Ruby-throated Hummingbird',\n",
       "       'Ruby-crowned Kinglet', 'Ruddy Duck', 'Ruffed Grouse',\n",
       "       'Rufous Hummingbird', 'Rusty Blackbird', 'Sagebrush Sparrow',\n",
       "       'Sage Thrasher', 'Savannah Sparrow', \"Say's Phoebe\",\n",
       "       'Scarlet Tanager', \"Scott's Oriole\", 'Semipalmated Plover',\n",
       "       'Semipalmated Sandpiper', 'Short-eared Owl', 'Sharp-shinned Hawk',\n",
       "       'Snow Bunting', 'Snow Goose', 'Solitary Sandpiper', 'Song Sparrow',\n",
       "       'Sora', 'Spotted Sandpiper', 'Spotted Towhee', \"Steller's Jay\",\n",
       "       \"Swainson's Hawk\", 'Swamp Sparrow', \"Swainson's Thrush\",\n",
       "       'Tree Swallow', 'Trumpeter Swan', 'Tufted Titmouse', 'Tundra Swan',\n",
       "       'Veery', 'Vesper Sparrow', 'Violet-green Swallow',\n",
       "       'Warbling Vireo', 'Western Bluebird', 'Western Grebe',\n",
       "       'Western Kingbird', 'Western Meadowlark', 'Western Sandpiper',\n",
       "       'Western Tanager', 'Western Wood Pewee', 'White-breasted Nuthatch',\n",
       "       'White-crowned Sparrow', 'White-faced Ibis',\n",
       "       'White-throated Sparrow', 'White-throated Swift',\n",
       "       'Willow Flycatcher', \"Wilson's Snipe\", 'Wild Turkey',\n",
       "       'Winter Wren', \"Wilson's Warbler\", 'Wood Duck',\n",
       "       \"Woodhouse's Scrub Jay\", 'Wood Thrush', 'American Coot',\n",
       "       'Yellow-bellied Flycatcher', 'Yellow-bellied Sapsucker',\n",
       "       'Yellow-headed Blackbird', 'Mangrove Warbler', 'Myrtle Warbler',\n",
       "       'Yellow-throated Vireo'], dtype=object)"
      ]
     },
     "execution_count": 11,
     "metadata": {},
     "output_type": "execute_result"
    }
   ],
   "source": [
    "species_lst"
   ]
  },
  {
   "cell_type": "code",
   "execution_count": 12,
   "id": "6b6477a0-150a-4fd7-95bd-4efc2f3d1fe7",
   "metadata": {},
   "outputs": [],
   "source": [
    "filter_data = data[data['species'].isin(rare_birds)]"
   ]
  },
  {
   "cell_type": "code",
   "execution_count": 13,
   "id": "10e7d4a7-a5c8-4ac7-b9d4-b760bcfc6c70",
   "metadata": {},
   "outputs": [
    {
     "data": {
      "text/plain": [
       "15"
      ]
     },
     "execution_count": 13,
     "metadata": {},
     "output_type": "execute_result"
    }
   ],
   "source": [
    "pick = filter_data['ebird_code'].unique()\n",
    "pick = pick.tolist()\n",
    "len(pick)"
   ]
  },
  {
   "cell_type": "code",
   "execution_count": 14,
   "id": "6f18da2f-46ca-4c98-92fb-8cc886639820",
   "metadata": {},
   "outputs": [],
   "source": [
    "import shutil"
   ]
  },
  {
   "cell_type": "code",
   "execution_count": null,
   "id": "dfe4af6e-1c6b-40d2-b321-12714876cd01",
   "metadata": {},
   "outputs": [],
   "source": [
    "for i in os.listdir('.//archive/N-Z'):\n",
    "    if i in pick :\n",
    "        shutil.move(os.path.join('.//archive/N-Z' , i) , './vulnerable/')"
   ]
  },
  {
   "cell_type": "code",
   "execution_count": 12,
   "id": "0dc82a59-34f8-4968-9551-24fa4c8c2594",
   "metadata": {
    "scrolled": true
   },
   "outputs": [],
   "source": [
    "import warnings\n",
    "import glob\n",
    "warnings.filterwarnings('ignore')\n",
    "\n",
    "for i in folder:\n",
    "    for j in os.listdir(i):\n",
    "        for k in os.listdir(os.path.join(i , j)):\n",
    "            png_files = glob.glob(os.path.join(i,j, \"*.png\"))\n",
    "             # Loop through the list and delete each file\n",
    "            for file in png_files:\n",
    "                try:\n",
    "                    os.remove(file)\n",
    "                    print(f\"Deleted: {file}\")\n",
    "                except Exception as e:\n",
    "                    print(f\"Error deleting {file}: {e}\")\n",
    "            # path = os.path.join(i,j,k)\n",
    "            # save_path = os.path.join(i,j)\n",
    "            # makespectogram(path , save_path)\n",
    "            \n",
    "            "
   ]
  },
  {
   "cell_type": "code",
   "execution_count": null,
   "id": "e2dda27d-ab0e-47ac-87e7-4add62c1e694",
   "metadata": {
    "scrolled": true
   },
   "outputs": [
    {
     "name": "stdout",
     "output_type": "stream",
     "text": [
      "Error loading audio file: \n",
      "Error loading audio file: \n",
      "Error loading audio file: \n",
      "Error loading audio file: \n",
      "Error loading audio file: \n",
      "Error loading audio file: \n",
      "Error loading audio file: \n",
      "Error loading audio file: \n",
      "Error loading audio file: \n"
     ]
    }
   ],
   "source": [
    "import warnings\n",
    "warnings.filterwarnings('ignore')\n",
    "\n",
    "for i in folder:\n",
    "    for j in os.listdir(i):\n",
    "        save_path = os.path.join(i,j)\n",
    "        for k in os.listdir(os.path.join(i , j)):        \n",
    "            path = os.path.join(i,j,k)\n",
    "            split_audio_librosa(path , save_path)\n",
    "        print(\"first sucess\")"
   ]
  },
  {
   "cell_type": "code",
   "execution_count": 17,
   "id": "0f7a7633-4508-455a-bcaa-030c820749ce",
   "metadata": {
    "scrolled": true
   },
   "outputs": [
    {
     "name": "stdout",
     "output_type": "stream",
     "text": [
      "Accipiter_badius normal normal   1655\n",
      "Amaurornis_phoenicurus normal normal   1655\n",
      "Anastomus_oscitans normal normal   1655\n",
      "Anser_anser normal normal   1655\n",
      "Apus_affinis normal normal   1655\n",
      "Arborophila_torqueola normal normal   1655\n",
      "Butorides_striata normal   1655\n",
      "Cacomantis_merulinus normal   1655\n",
      "Cacomantis_passerinus normal   1655\n",
      "Cacomantis_sonneratii normal   1655\n",
      "Caprimulgus_affinis normal   1655\n",
      "Caprimulgus_asiaticus normal   1655\n",
      "Caprimulgus_atripennis normal   1655\n",
      "Centropus_sinensis normal   1655\n",
      "Chrysococcyx_maculatus normal   1655\n",
      "Clamator_jacobinus normal   1655\n",
      "Columba_livia normal   1655\n",
      "\n",
      "Glaucidium cuculoides endangered   1398\n",
      "Liocichla phoenicea endangered   1001\n",
      "\n",
      "Ash-throated Flycatcher vulnerable   10022\n",
      "Blackburnian Warbler vulnerable   1146\n",
      "Blackpoll Warbler vulnerable   2762\n",
      "Clanga_hastata vulnerable   1655\n",
      "Mangrove Warbler vulnerable   1363\n",
      "Rusty Blackbird vulnerable   1194\n",
      "Sand Martin vulnerable   2504\n",
      "\n"
     ]
    }
   ],
   "source": [
    "final_name_list = []\n",
    "for directory in folder:\n",
    "    for sub_dir in os.listdir(directory):\n",
    "        png_files = glob.glob(os.path.join(directory,sub_dir, \"*.png\"))\n",
    "        # if int(len([name for name in os.listdir(os.path.join(directory , sub_dir)) if os.path.isfile(os.path.join(directory , sub_dir, name))])/2) > 20:\n",
    "        if int(len(png_files)) > 1000 :\n",
    "            print(sub_dir , \" \" , int(len(png_files)))\n",
    "            final_name_list.append(sub_dir)\n",
    "        else :\n",
    "            shutil.move(os.path.join(directory , sub_dir) , os.path.join(\"extra\"))\n",
    "    print()"
   ]
  },
  {
   "cell_type": "code",
   "execution_count": null,
   "id": "8e25766a-1606-4f7e-a358-ee8141704c6a",
   "metadata": {},
   "outputs": [],
   "source": []
  }
 ],
 "metadata": {
  "kernelspec": {
   "display_name": "Python 3 (ipykernel)",
   "language": "python",
   "name": "python3"
  },
  "language_info": {
   "codemirror_mode": {
    "name": "ipython",
    "version": 3
   },
   "file_extension": ".py",
   "mimetype": "text/x-python",
   "name": "python",
   "nbconvert_exporter": "python",
   "pygments_lexer": "ipython3",
   "version": "3.12.3"
  }
 },
 "nbformat": 4,
 "nbformat_minor": 5
}
